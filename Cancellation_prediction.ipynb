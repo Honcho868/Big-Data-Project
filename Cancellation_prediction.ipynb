{
 "cells": [
  {
   "cell_type": "code",
   "execution_count": 76,
   "metadata": {},
   "outputs": [],
   "source": [
    "#Install if necessary\n",
    "#!pip install kmodes\n",
    "#!pip install statsmodels\n"
   ]
  },
  {
   "cell_type": "code",
   "execution_count": 77,
   "metadata": {},
   "outputs": [],
   "source": [
    "#Import libraries\n",
    "import pandas as pd\n",
    "import numpy as np \n",
    "import matplotlib.pyplot as plt\n",
    "import seaborn as sns\n",
    "\n",
    "from sklearn.preprocessing import LabelEncoder\n",
    "from sklearn.decomposition import PCA\n",
    "from sklearn.preprocessing import StandardScaler\n",
    "from sklearn.model_selection import train_test_split\n",
    "from sklearn.metrics import accuracy_score, precision_score, recall_score, f1_score, roc_auc_score\n",
    "from sklearn.ensemble import RandomForestClassifier\n",
    "from sklearn.linear_model import LogisticRegression\n",
    "from sklearn.tree import DecisionTreeClassifier\n",
    "from sklearn.metrics import confusion_matrix, ConfusionMatrixDisplay\n"
   ]
  },
  {
   "cell_type": "code",
   "execution_count": null,
   "metadata": {},
   "outputs": [],
   "source": [
    "# Set pandas display options to show all columns\n",
    "pd.set_option('display.max_columns', None)\n",
    "\n",
    "\n",
    "# Load the dataset\n",
    "df = pd.read_csv('preprocessed_hotel_booking.csv')\n",
    "df.head()"
   ]
  },
  {
   "cell_type": "code",
   "execution_count": null,
   "metadata": {},
   "outputs": [],
   "source": [
    "df.dtypes"
   ]
  },
  {
   "cell_type": "code",
   "execution_count": 80,
   "metadata": {},
   "outputs": [],
   "source": [
    "# Convert date columns to datetime\n",
    "df['reservation_status_date'] = pd.to_datetime(df['reservation_status_date'])\n",
    "df['arrival_date'] = pd.to_datetime(df['arrival_date'])"
   ]
  },
  {
   "cell_type": "code",
   "execution_count": null,
   "metadata": {},
   "outputs": [],
   "source": [
    "df.dtypes"
   ]
  },
  {
   "cell_type": "code",
   "execution_count": null,
   "metadata": {},
   "outputs": [],
   "source": [
    "df.columns"
   ]
  },
  {
   "cell_type": "markdown",
   "metadata": {},
   "source": [
    "## Booking Cancellation Analysis"
   ]
  },
  {
   "cell_type": "code",
   "execution_count": null,
   "metadata": {},
   "outputs": [],
   "source": [
    "# Calculate cancellation percentage\n",
    "cancellation_percentage = df['is_canceled'].value_counts(normalize=True) * 100\n",
    "\n",
    "# Create bar plot\n",
    "plt.figure(figsize=(8, 6))\n",
    "sns.barplot(x=cancellation_percentage.index, y=cancellation_percentage.values, hue=cancellation_percentage.index, legend=False)\n",
    "plt.title('Percentage of Not Canceled vs Canceled Bookings')\n",
    "plt.xlabel('Booking Status')\n",
    "plt.ylabel('Percentage')\n",
    "\n",
    "# Add data labels\n",
    "for i, v in enumerate(cancellation_percentage.values):\n",
    "    plt.text(i, v, f'{v:.0f}%', ha='center', va='bottom')\n",
    "\n",
    "plt.show()\n"
   ]
  },
  {
   "cell_type": "markdown",
   "metadata": {},
   "source": [
    "The bar chart shows the distribution of canceled and not canceled bookings in the dataset. A significant portion of bookings were not canceled, indicating a relatively high booking success rate. However, for the percentage of bookings that were canceled, there is need for further investigation into the factors contributing to cancellations. Further analysis could focus on identifying these factors and developing strategies to mitigate cancellations. \n",
    "\n",
    "\n"
   ]
  },
  {
   "cell_type": "code",
   "execution_count": null,
   "metadata": {},
   "outputs": [],
   "source": [
    "# Create a cross-tabulation of reservation status and is_canceled\n",
    "reservation_status_counts = pd.crosstab(df['reservation_status'], df['is_canceled'])\n",
    "\n",
    "# Calculate the total number of cancellations and no-shows\n",
    "total_cancellations = reservation_status_counts.loc['Canceled',:].sum()\n",
    "total_no_shows = reservation_status_counts.loc['No-Show',:].sum()\n",
    "\n",
    "# Pie chart\n",
    "sizes = [total_cancellations, total_no_shows]\n",
    "colors = ['#FFB347', '#90EE90']\n",
    "plt.figure(figsize=(8, 6))\n",
    "plt.pie(sizes, autopct='%1.0f%%', startangle=60, colors=colors)\n",
    "plt.title('Percentage of Canceled vs. No-Show Bookings')\n",
    "plt.axis('equal')\n",
    "plt.legend(['Canceled', 'No-Show'])\n",
    "plt.show()"
   ]
  },
  {
   "cell_type": "markdown",
   "metadata": {},
   "source": [
    "Majority of absences by guests are cancellations prior to arrival rather than no-shows therefore the main investigation would be based on the cancellations"
   ]
  },
  {
   "cell_type": "markdown",
   "metadata": {},
   "source": [
    "### **Numerical Feature Analysis**"
   ]
  },
  {
   "cell_type": "code",
   "execution_count": null,
   "metadata": {},
   "outputs": [],
   "source": [
    "# Select numerical features and target variable\n",
    "numerical_features = ['lead_time', 'stays_in_weekend_nights',\n",
    "       'stays_in_week_nights', 'adults', 'children', 'babies',\n",
    "       'is_repeated_guest', 'previous_cancellations',\n",
    "       'previous_bookings_not_canceled', 'booking_changes', 'days_in_waiting_list', 'adr',\n",
    "       'required_car_parking_spaces', 'total_of_special_requests','arrival_date']\n",
    "target_variable = 'is_canceled'\n",
    "\n",
    "# Compute the correlation matrix\n",
    "correlation_matrix = df[numerical_features + [target_variable]].corr()\n",
    "\n",
    "# Select the target variable correlations\n",
    "correlation_with_target = correlation_matrix[target_variable].drop(target_variable)\n",
    "\n",
    "# Sort correlations in descending order\n",
    "correlation_with_target = correlation_with_target.sort_values(ascending=False)\n",
    "\n",
    "# Visualizing correlation coefficients between features and cancellation:\n",
    "fig = plt.figure(figsize=(8,10))\n",
    "correlation_with_target.plot(kind='bar')\n",
    "plt.title('Correlation of Features with Cancellation')\n",
    "plt.xlabel('Features')\n",
    "plt.ylabel('Correlation Coefficient')\n",
    "plt.xticks(rotation=90)\n",
    "plt.tight_layout()\n",
    "plt.show()\n"
   ]
  },
  {
   "cell_type": "markdown",
   "metadata": {},
   "source": [
    "## Correlation Analysis of Cancellation Prediction\n",
    "\n",
    "The correlation analysis reveals key factors influencing booking cancellations.  Let's examine the top and bottom two features:\n",
    "\n",
    "**Top 2 (Positive) Correlations:**\n",
    "\n",
    "1. **`lead_time`:** A strong positive correlation suggests that longer lead times are associated with a higher likelihood of cancellation. This could be due to guests having more time to change their plans or find alternative options.\n",
    "\n",
    "2. **`previous_cancellations`:**  A positive correlation indicates that guests with a history of cancellations are more likely to cancel future bookings. This highlights the importance of identifying and potentially managing high-risk customers.\n",
    "\n",
    "\n",
    "**Bottom 2 (Negative) Correlations:**\n",
    "\n",
    "To gain a comprehensive understanding, we must also analyze the features exhibiting the two lowest (most negative) correlation coefficients. These features **required_car_parking_spaces** and **total_of_special_requests** showed negative correlations, implying guests with special needs are less likely to cancel\n",
    "\n",
    "N.B **arrival_date_year** and **children** count showed minimal impact on cancellations\n"
   ]
  },
  {
   "cell_type": "markdown",
   "metadata": {},
   "source": [
    "### **Categorical Feature Analysis**"
   ]
  },
  {
   "cell_type": "code",
   "execution_count": null,
   "metadata": {},
   "outputs": [],
   "source": [
    "# Create count plots for categorical features\n",
    "cat_features = ['hotel', 'meal', 'market_segment', 'distribution_channel', \n",
    "                'deposit_type', 'customer_type']\n",
    "\n",
    "plt.figure(figsize=(20, 15))\n",
    "for i, feature in enumerate(cat_features, 1):\n",
    "    plt.subplot(3, 2, i)\n",
    "    sns.countplot(x=feature, hue='is_canceled', data=df, palette=['#ADD8E6','#FFA07A']) #Pastel blue and pastel orange\n",
    "    plt.title(f'Cancellations by {feature}')\n",
    "    plt.xticks(rotation=45)\n",
    "plt.tight_layout()"
   ]
  },
  {
   "cell_type": "code",
   "execution_count": null,
   "metadata": {},
   "outputs": [],
   "source": [
    "print(df['deposit_type'].value_counts())"
   ]
  },
  {
   "cell_type": "code",
   "execution_count": null,
   "metadata": {},
   "outputs": [],
   "source": [
    "print(df['distribution_channel'].value_counts())"
   ]
  },
  {
   "cell_type": "code",
   "execution_count": null,
   "metadata": {},
   "outputs": [],
   "source": [
    "print(df['market_segment'].value_counts())"
   ]
  },
  {
   "cell_type": "markdown",
   "metadata": {},
   "source": [
    "The count plots for categorical features provided valuable insights:\n",
    "- **Hotel Type**: City hotels had higher cancellation rates than resort hotels\n",
    "- **Meal Plan**: Room-only bookings (BB) had higher cancellations than full board\n",
    "- **Market Segment**: Online TA (Travel Agents) showed highest cancellation rates\n",
    "- **Distribution Channel**: Direct bookings had lower cancellations than TA/TO\n",
    "- **Deposit Type**: Non-refundable deposits had significantly lower cancellations\n",
    "- **Customer Type**: Transient customers had higher cancellations than contract/group\n",
    "\n",
    "\n",
    "N.B The absence of certain categories in the plots (e.g., 'Refundable' deposit type or 'GDS' distribution channel shown above) can be due to several factors:\n",
    " \n",
    "1. **Data Sparsity**: Some categories may have very few or no instances in the dataset, making them invisible in the plots\n",
    "2. **Data Cleaning**: These categories might have been removed during preprocessing if they contained missing or invalid data\n",
    "3. **Business Reality**: Some categories might genuinely be rare in the hotel's operations (e.g., GDS channels might not be commonly used)\n",
    "4. **Data Collection**: The hotel might not have collected data for certain categories during the period covered by the dataset\n"
   ]
  },
  {
   "cell_type": "markdown",
   "metadata": {},
   "source": [
    "### **Time Series Analysis**"
   ]
  },
  {
   "cell_type": "code",
   "execution_count": null,
   "metadata": {},
   "outputs": [],
   "source": [
    "# Monthly cancellation rates\n",
    "df['arrival_month'] = df['arrival_date'].dt.month\n",
    "monthly_cancellations = df.groupby(['arrival_month', 'is_canceled']).size().unstack()\n",
    "monthly_cancellations.plot(kind='bar', figsize=(12,6))\n",
    "plt.title('Cancellations by Month')\n",
    "plt.xlabel('Month')\n",
    "plt.ylabel('Number of Bookings')\n",
    "plt.legend(['Not Canceled', 'Canceled'])"
   ]
  },
  {
   "cell_type": "markdown",
   "metadata": {},
   "source": [
    "### Analysis of Monthly Cancellation Rates\n",
    "\n",
    "Peak travel months: Summer months(usually April-August) and December\n",
    "\n",
    "Off-peak travel months: January-March, September-November\n",
    "\n",
    "The bar chart reveals several key insights about cancellations for months throughout the year:\n",
    "\n",
    "1. **Seasonal Trends**: \n",
    "- Higher cancellation rates are observed during peak travel months\n",
    "- Lower cancellation rates are seen in off-peak months\n",
    "\n",
    "2. **Booking Behavior**:\n",
    "- The total number of bookings (canceled + not canceled) is highest during summer months, indicating increased demand\n",
    "- The proportion of cancellations relative to total bookings remains relatively consistent across months\n",
    "\n",
    "3 and 4 are insights on how this bar chart analysis can help with market research and hotel campaign restructuring\n",
    "\n",
    "3. **Business Implications**:\n",
    "- The hotel should consider implementing stricter cancellation policies during peak seasons\n",
    "- Revenue management strategies could be adjusted based on these seasonal patterns\n",
    "- Marketing efforts could be intensified during low-cancellation months to maximize occupancy\n",
    "\n",
    "4. **Operational Considerations**:\n",
    "- Staffing and resource allocation could be optimized based on these cancellation patterns\n",
    "- Inventory management should account for higher cancellation rates during peak months\n"
   ]
  },
  {
   "cell_type": "markdown",
   "metadata": {},
   "source": [
    "### **Cancellation Rate by Lead Time**"
   ]
  },
  {
   "cell_type": "code",
   "execution_count": null,
   "metadata": {},
   "outputs": [],
   "source": [
    "# Create bins for lead time\n",
    "df['lead_time_bins'] = pd.cut(df['lead_time'], \n",
    "                             bins=[0, 30, 60, 90, 120, 150, 180, 365, 730],\n",
    "                             labels=['0-30', '31-60', '61-90', '91-120', \n",
    "                                    '121-150', '151-180', '181-365', '>365'])\n",
    "\n",
    "# Plot cancellation rate by lead time bins\n",
    "cancellation_rate = df.groupby('lead_time_bins',observed=False)['is_canceled'].mean()\n",
    "cancellation_rate.plot(kind='bar', figsize=(12,6), color='#FFB347')\n",
    "plt.title('Cancellation Rate by Lead Time')\n",
    "plt.xlabel('Lead Time (days)')\n",
    "plt.ylabel('Cancellation Rate')"
   ]
  },
  {
   "cell_type": "markdown",
   "metadata": {},
   "source": [
    "### Analysis of Cancellation Rates by Lead Time\n",
    "\n",
    "Before we analyse the chart lets better understand its feature: Cancellation Rate\n",
    "\n",
    "Cancellation rate represents the percentage of bookings that are canceled out of the total bookings made. It's calculated as:\n",
    " \n",
    "**Cancellation Rate = (Number of Canceled Bookings / Total Number of Bookings) * 100**\n",
    "\n",
    "N.B In the bar graph its represented as (Number of Canceled Bookings / Total Number of Bookings)\n",
    "\n",
    "This metric is crucial for hotels as it:\n",
    "- Helps predict potential revenue loss\n",
    "- Informs overbooking strategies\n",
    "- Guides cancellation policy decisions\n",
    "- Assists in resource allocation and planning\n",
    " \n",
    "A higher cancellation rate indicates more uncertainty in bookings, while a lower rate suggests more reliable reservations.\n",
    "\n",
    "The bar chart reveals important insights about the relationship between lead time and cancellation rates:\n",
    "\n",
    "1. **General Trend**:\n",
    "- Cancellation rates increase significantly as lead time increases\n",
    "- Bookings made more than 365 days in advance have the highest cancellation rate\n",
    " \n",
    "2. **Key Observations**:\n",
    "- Short-term bookings (0-30 days) have the lowest cancellation rates (typically under 20%), likely because these are more urgent, planned trips\n",
    "- The 31-60 days range shows a moderate increase in cancellations, suggesting this is when some travelers start reconsidering their plans\n",
    "- Between 61-180 days, cancellation rates rise steadily, indicating that the longer the booking window, the more likely plans are to change\n",
    "- The 181-365 days range shows a significant jump in cancellations, possibly due to changing personal circumstances or finding better deals elsewhere\n",
    "- The >365 days category has the highest cancellation rate (over 50%), likely because plans made this far in advance are most susceptible to changes\n",
    "\n",
    "3 and 4 are insights on how this bar chart analysis can help with market research and hotel campaign restructuring\n",
    "\n",
    "3. **Business Implications**:\n",
    "- The hotel could implement different cancellation policies based on lead time\n",
    "- Early bookings might require larger deposits to reduce cancellations\n",
    "- Marketing efforts could focus on last-minute bookings which have lower cancellation rates\n",
    " \n",
    "4. **Operational Considerations**:\n",
    "- Revenue management should account for higher cancellation rates in long-lead bookings\n",
    "- Overbooking strategies could be adjusted based on lead time\n",
    "- Customer communication should be intensified for long-lead bookings to maintain engagement\n",
    "\n"
   ]
  },
  {
   "cell_type": "markdown",
   "metadata": {},
   "source": [
    "### **Cancellation Prediction Models**"
   ]
  },
  {
   "cell_type": "code",
   "execution_count": 92,
   "metadata": {},
   "outputs": [],
   "source": [
    "df1 = df"
   ]
  },
  {
   "cell_type": "code",
   "execution_count": 93,
   "metadata": {},
   "outputs": [],
   "source": [
    "df1 = pd.get_dummies(df1, columns=['arrival_date_month', 'meal', 'market_segment', 'distribution_channel', 'agent', 'reserved_room_type', 'assigned_room_type', 'deposit_type', 'customer_type'])\n"
   ]
  },
  {
   "cell_type": "code",
   "execution_count": null,
   "metadata": {},
   "outputs": [],
   "source": [
    "df1"
   ]
  },
  {
   "cell_type": "code",
   "execution_count": 95,
   "metadata": {},
   "outputs": [],
   "source": [
    "# Label encode the country column\n",
    "le = LabelEncoder()\n",
    "df1['country'] = le.fit_transform(df1['country'])\n",
    "df1['hotel'] = le.fit_transform(df1['hotel'])"
   ]
  },
  {
   "cell_type": "code",
   "execution_count": null,
   "metadata": {},
   "outputs": [],
   "source": [
    "df1"
   ]
  },
  {
   "cell_type": "code",
   "execution_count": null,
   "metadata": {},
   "outputs": [],
   "source": [
    "# Check if any columns are type category\n",
    "category_columns = df1.select_dtypes(include=['category']).columns\n",
    "print(\"Category columns: \", category_columns)"
   ]
  },
  {
   "cell_type": "code",
   "execution_count": null,
   "metadata": {},
   "outputs": [],
   "source": [
    "#Remove lead_time_bins\n",
    "df1 = df1.select_dtypes(exclude=['category'])\n",
    "df1"
   ]
  },
  {
   "cell_type": "code",
   "execution_count": null,
   "metadata": {},
   "outputs": [],
   "source": [
    "df1.info()"
   ]
  },
  {
   "cell_type": "code",
   "execution_count": null,
   "metadata": {},
   "outputs": [],
   "source": [
    "df1.columns"
   ]
  },
  {
   "cell_type": "code",
   "execution_count": 101,
   "metadata": {},
   "outputs": [],
   "source": [
    "X = df1.drop(columns=['is_canceled','reservation_status','country', \n",
    "                     'reservation_status_date', 'arrival_date'])\n",
    "y = df1['is_canceled']"
   ]
  },
  {
   "cell_type": "code",
   "execution_count": 102,
   "metadata": {},
   "outputs": [],
   "source": [
    "X_train, X_test, y_train, y_test = train_test_split(X, y, test_size=0.2, random_state=42)"
   ]
  },
  {
   "cell_type": "code",
   "execution_count": 103,
   "metadata": {},
   "outputs": [],
   "source": [
    "scaler = StandardScaler()\n",
    "X_train_scaled = scaler.fit_transform(X_train)\n",
    "X_test_scaled = scaler.transform(X_test)"
   ]
  },
  {
   "cell_type": "code",
   "execution_count": 104,
   "metadata": {},
   "outputs": [],
   "source": [
    "def evaluate_classifier(y_true, y_pred, y_pred_proba, title):  \n",
    "    # Calculate metrics\n",
    "    accuracy = accuracy_score(y_true, y_pred)\n",
    "    precision = precision_score(y_true, y_pred)\n",
    "    recall = recall_score(y_true, y_pred)\n",
    "    f1 = f1_score(y_true, y_pred)\n",
    "    \n",
    "    # Print metrics\n",
    "    print(f\"\\n{title} Results:\")\n",
    "    print(f\"Accuracy: {accuracy:.4f}\")\n",
    "    print(f\"Precision: {precision:.4f}\")\n",
    "    print(f\"Recall: {recall:.4f}\")\n",
    "    print(f\"F1-score: {f1:.4f}\")"
   ]
  },
  {
   "cell_type": "markdown",
   "metadata": {},
   "source": [
    "#### **Random Forest Classifier**"
   ]
  },
  {
   "cell_type": "code",
   "execution_count": null,
   "metadata": {},
   "outputs": [],
   "source": [
    "rf_clf = RandomForestClassifier(n_estimators=100, random_state=42)\n",
    "rf_clf.fit(X_train_scaled, y_train)\n",
    "rf_pred = rf_clf.predict(X_test_scaled)\n",
    "rf_pred_proba = rf_clf.predict_proba(X_test_scaled)[:, 1]\n",
    "evaluate_classifier(y_test, rf_pred, rf_pred_proba, \"Random Forest\")"
   ]
  },
  {
   "cell_type": "markdown",
   "metadata": {},
   "source": [
    "#### **Logistic Regression**"
   ]
  },
  {
   "cell_type": "code",
   "execution_count": null,
   "metadata": {},
   "outputs": [],
   "source": [
    "lr_clf = LogisticRegression(random_state=42, max_iter=1000) \n",
    "lr_clf.fit(X_train_scaled, y_train)\n",
    "lr_pred = lr_clf.predict(X_test_scaled)\n",
    "lr_pred_proba = lr_clf.predict_proba(X_test_scaled)[:, 1]\n",
    "evaluate_classifier(y_test, lr_pred, lr_pred_proba, \"Logistic Regression\")"
   ]
  },
  {
   "cell_type": "markdown",
   "metadata": {},
   "source": [
    "#### **Decision Tree**"
   ]
  },
  {
   "cell_type": "code",
   "execution_count": null,
   "metadata": {},
   "outputs": [],
   "source": [
    "dt_clf = DecisionTreeClassifier(random_state=42)\n",
    "dt_clf.fit(X_train_scaled, y_train)\n",
    "dt_pred = dt_clf.predict(X_test_scaled)\n",
    "dt_pred_proba = dt_clf.predict_proba(X_test_scaled)[:, 1]\n",
    "evaluate_classifier(y_test, dt_pred, dt_pred_proba, \"Decision Tree\")"
   ]
  },
  {
   "cell_type": "code",
   "execution_count": null,
   "metadata": {},
   "outputs": [],
   "source": [
    "results = pd.DataFrame({\n",
    "    'Classifier': ['Random Forest', 'Logistic Regression', 'Decision Tree'],\n",
    "    'Accuracy': [accuracy_score(y_test, rf_pred), accuracy_score(y_test, lr_pred), accuracy_score(y_test, dt_pred)],\n",
    "    'Precision': [precision_score(y_test, rf_pred), precision_score(y_test, lr_pred), precision_score(y_test, dt_pred)],\n",
    "    'Recall': [recall_score(y_test, rf_pred), recall_score(y_test, lr_pred), recall_score(y_test, dt_pred)],\n",
    "    'F1': [f1_score(y_test, rf_pred), f1_score(y_test, lr_pred), f1_score(y_test, dt_pred)]\n",
    "})\n",
    "results\n"
   ]
  },
  {
   "cell_type": "markdown",
   "metadata": {},
   "source": [
    "#### **Model Results Analysis**\n",
    "\n",
    "Based on the performance metrics shown above:\n",
    " \n",
    "1. **Potential Overfitting**:  \n",
    "Random Forest and Decision Tree show near-perfect scores (accuracy >99.9%) which may indicate overfitting. We should verify this by:\n",
    "- Checking performance on training vs test sets\n",
    "- Looking at feature importance distributions\n",
    "- Considering regularization or hyperparameter tuning\n",
    "\n",
    "2. **Class Balance**:  \n",
    "Given the high precision/recall scores, we should confirm the class distribution in our target variable:\n"
   ]
  },
  {
   "cell_type": "code",
   "execution_count": null,
   "metadata": {},
   "outputs": [],
   "source": [
    "# Check class balance\n",
    "print(\"Class distribution:\\n\", y.value_counts(normalize=True))"
   ]
  },
  {
   "cell_type": "markdown",
   "metadata": {},
   "source": [
    "3. **Business Context Considerations**:  \n",
    "- Recall is critical for cancellation prediction - we want to minimize false negatives\n",
    "- Precision helps avoid false alarms, but may be less critical than recall\n",
    "- The F1 score helps balance these priorities\n",
    "\n",
    "4. **Model Comparison**:  \n",
    "Let's visualize performance differences:"
   ]
  },
  {
   "cell_type": "code",
   "execution_count": null,
   "metadata": {},
   "outputs": [],
   "source": [
    "# Plot confusion matrices\n",
    "fig, axes = plt.subplots(1, 3, figsize=(20, 6))\n",
    "for i, (clf, name) in enumerate(zip([rf_clf, lr_clf, dt_clf], ['Random Forest', 'Logistic Regression', 'Decision Tree'])):\n",
    "    cm = confusion_matrix(y_test, clf.predict(X_test_scaled))\n",
    "    disp = ConfusionMatrixDisplay(confusion_matrix=cm, display_labels=['Not Canceled', 'Canceled'])\n",
    "    disp.plot(ax=axes[i], cmap='Blues')\n",
    "    axes[i].set_title(f'{name} Confusion Matrix')\n",
    "plt.tight_layout()\n",
    "plt.show()"
   ]
  },
  {
   "cell_type": "code",
   "execution_count": null,
   "metadata": {},
   "outputs": [],
   "source": [
    "# Analyze confusion matrices\n",
    "print(\"\\nConfusion Matrix Analysis:\")\n",
    "\n",
    "# Create a dictionary to store metrics\n",
    "metrics = {}\n",
    "\n",
    "# Calculate metrics for each model\n",
    "for clf, name in zip([rf_clf, lr_clf, dt_clf], ['Random Forest', 'Logistic Regression', 'Decision Tree']):\n",
    "    y_pred = clf.predict(X_test_scaled)\n",
    "    tn, fp, fn, tp = confusion_matrix(y_test, y_pred).ravel()\n",
    "    \n",
    "    # Store metrics\n",
    "    metrics[name] = {\n",
    "        'True Positives': tp,\n",
    "        'False Positives': fp,\n",
    "        'True Negatives': tn,\n",
    "        'False Negatives': fn,\n",
    "        'Precision': tp / (tp + fp),\n",
    "        'Recall': tp / (tp + fn)\n",
    "    }\n",
    "    \n",
    "    # Print insights\n",
    "    print(f\"\\n{name} Performance:\")\n",
    "    print(f\"- Correct predictions: {tp + tn} ({((tp + tn)/len(y_test))*100:.1f}%)\")\n",
    "    print(f\"- False positives: {fp} (Type I errors)\")\n",
    "    print(f\"- False negatives: {fn} (Type II errors)\")\n",
    "    print(f\"- Recall (ability to catch cancellations): {metrics[name]['Recall']:.3f}\")\n",
    "    print(f\"- Precision (accuracy of cancellation predictions): {metrics[name]['Precision']:.3f}\")\n",
    "\n",
    "# Compare models\n",
    "print(\"\\nModel Comparison Insights:\")\n",
    "print(\"- Random Forest and Decision Tree show near-perfect performance with minimal false negatives\")\n",
    "print(\"- Logistic Regression has higher false negatives, indicating it's less effective at catching cancellations\")\n",
    "print(\"- All models have very low false positives, meaning they rarely predict cancellations incorrectly\")\n",
    "print(\"- The high recall scores suggest all models are effective at identifying actual cancellations\")\n",
    "print(\"- The near-perfect precision indicates very few false alarms in cancellation predictions\")"
   ]
  },
  {
   "cell_type": "markdown",
   "metadata": {},
   "source": [
    "5. **Feature Analysis**:  \n",
    "Let's examine the most important features for the best-performing model:"
   ]
  },
  {
   "cell_type": "code",
   "execution_count": null,
   "metadata": {},
   "outputs": [],
   "source": [
    "# Get feature importances\n",
    "rf_importances = pd.DataFrame({\n",
    "    'feature': X.columns,\n",
    "    'importance': rf_clf.feature_importances_\n",
    "}).sort_values('importance', ascending=False).head(10)\n",
    "\n",
    "# Plot top features\n",
    "plt.figure(figsize=(10, 6))\n",
    "sns.barplot(data=rf_importances, x='importance', y='feature')\n",
    "plt.title('Top 10 Random Forest Feature Importances')\n",
    "plt.xlabel('Importance Score')\n",
    "plt.ylabel('Feature')\n",
    "plt.show()"
   ]
  },
  {
   "cell_type": "markdown",
   "metadata": {},
   "source": [
    "The bar chart above represents the top 10 most important features used by the Random Forest model to predict hotel booking cancellations. The importance of a feature is determined by how much the tree nodes, which use that feature, reduce impurity across all trees in the forest. The feature with the highest importance score contributes the most to the model's decision-making process. By understanding these feature importances, we can gain insights into which factors are most influential in predicting whether a hotel booking will be cancelled."
   ]
  },
  {
   "cell_type": "markdown",
   "metadata": {},
   "source": []
  }
 ],
 "metadata": {
  "kernelspec": {
   "display_name": "Python 3",
   "language": "python",
   "name": "python3"
  },
  "language_info": {
   "codemirror_mode": {
    "name": "ipython",
    "version": 3
   },
   "file_extension": ".py",
   "mimetype": "text/x-python",
   "name": "python",
   "nbconvert_exporter": "python",
   "pygments_lexer": "ipython3",
   "version": "3.13.3"
  }
 },
 "nbformat": 4,
 "nbformat_minor": 2
}
